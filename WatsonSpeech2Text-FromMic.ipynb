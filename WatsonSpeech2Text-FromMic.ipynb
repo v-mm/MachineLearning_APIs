{
 "cells": [
  {
   "cell_type": "code",
   "execution_count": 1,
   "metadata": {},
   "outputs": [],
   "source": [
    "# simple example of speech to text transcription using Watson API (SpeechToText V1) with Python"
   ]
  },
  {
   "cell_type": "code",
   "execution_count": 2,
   "metadata": {},
   "outputs": [],
   "source": [
    "# see https://jakevdp.github.io/blog/2017/12/05/installing-python-packages-from-jupyter/\n",
    "# for more on installing packages for Jupyter Notebook"
   ]
  },
  {
   "cell_type": "code",
   "execution_count": 3,
   "metadata": {},
   "outputs": [
    {
     "name": "stdout",
     "output_type": "stream",
     "text": [
      "Requirement already satisfied: SpeechRecognition in c:\\anaconda3\\lib\\site-packages (3.8.1)\n"
     ]
    }
   ],
   "source": [
    "# pip install SpeechRecognition - to access microphone\n",
    "import sys\n",
    "!{sys.executable} -m pip install SpeechRecognition"
   ]
  },
  {
   "cell_type": "code",
   "execution_count": 4,
   "metadata": {},
   "outputs": [
    {
     "name": "stdout",
     "output_type": "stream",
     "text": [
      "Collecting package metadata (current_repodata.json): ...working... done\n",
      "Solving environment: ...working... done\n",
      "\n",
      "# All requested packages already installed.\n",
      "\n"
     ]
    }
   ],
   "source": [
    "# SpeechRecognition needs PyAudio \n",
    "# using conda install since this is the anaconda python distribution\n",
    "!conda install --yes --prefix {sys.prefix} anaconda pyaudio"
   ]
  },
  {
   "cell_type": "code",
   "execution_count": 5,
   "metadata": {},
   "outputs": [
    {
     "name": "stdout",
     "output_type": "stream",
     "text": [
      "Requirement already satisfied: ibm_watson in c:\\anaconda3\\lib\\site-packages (4.5.0)\n",
      "Requirement already satisfied: wget in c:\\anaconda3\\lib\\site-packages (3.2)\n",
      "Requirement already satisfied: requests<3.0,>=2.0 in c:\\anaconda3\\lib\\site-packages (from ibm_watson) (2.24.0)\n",
      "Requirement already satisfied: ibm-cloud-sdk-core==1.5.1 in c:\\anaconda3\\lib\\site-packages (from ibm_watson) (1.5.1)\n",
      "Requirement already satisfied: websocket-client==0.48.0 in c:\\anaconda3\\lib\\site-packages (from ibm_watson) (0.48.0)\n",
      "Requirement already satisfied: python-dateutil>=2.5.3 in c:\\anaconda3\\lib\\site-packages (from ibm_watson) (2.8.1)\n",
      "Requirement already satisfied: chardet<4,>=3.0.2 in c:\\anaconda3\\lib\\site-packages (from requests<3.0,>=2.0->ibm_watson) (3.0.4)\n",
      "Requirement already satisfied: urllib3!=1.25.0,!=1.25.1,<1.26,>=1.21.1 in c:\\anaconda3\\lib\\site-packages (from requests<3.0,>=2.0->ibm_watson) (1.25.9)\n",
      "Requirement already satisfied: idna<3,>=2.5 in c:\\anaconda3\\lib\\site-packages (from requests<3.0,>=2.0->ibm_watson) (2.10)\n",
      "Requirement already satisfied: certifi>=2017.4.17 in c:\\anaconda3\\lib\\site-packages (from requests<3.0,>=2.0->ibm_watson) (2020.6.20)\n",
      "Requirement already satisfied: PyJWT>=1.7.1 in c:\\anaconda3\\lib\\site-packages (from ibm-cloud-sdk-core==1.5.1->ibm_watson) (1.7.1)\n",
      "Requirement already satisfied: six in c:\\anaconda3\\lib\\site-packages (from websocket-client==0.48.0->ibm_watson) (1.15.0)\n"
     ]
    }
   ],
   "source": [
    "# unable to get watson via conda, hence using PIP install\n",
    "!{sys.executable} -m pip install ibm_watson wget"
   ]
  },
  {
   "cell_type": "code",
   "execution_count": 1,
   "metadata": {},
   "outputs": [
    {
     "data": {
      "text/plain": [
       "'3.8.1'"
      ]
     },
     "execution_count": 1,
     "metadata": {},
     "output_type": "execute_result"
    }
   ],
   "source": [
    "import speech_recognition as sr\n",
    "sr.__version__"
   ]
  },
  {
   "cell_type": "code",
   "execution_count": 7,
   "metadata": {},
   "outputs": [],
   "source": [
    "# before proceeding further,\n",
    "# create Watson SpeechtotextV1 API instance on IBM Cloud - it's free..:-)\n",
    "# note down credentials for API key and endpoint"
   ]
  },
  {
   "cell_type": "code",
   "execution_count": 8,
   "metadata": {},
   "outputs": [],
   "source": [
    "from ibm_watson import SpeechToTextV1\n",
    "# import json5\n",
    "from ibm_cloud_sdk_core.authenticators import IAMAuthenticator"
   ]
  },
  {
   "cell_type": "code",
   "execution_count": 9,
   "metadata": {},
   "outputs": [],
   "source": [
    "import json"
   ]
  },
  {
   "cell_type": "code",
   "execution_count": 10,
   "metadata": {},
   "outputs": [],
   "source": [
    "# store the Watson API endpoint URL in the variable url_s2t\n",
    "url_s2t = \"https://api.eu-gb.speech-to-text.watson.cloud.ibm.com/instances/59549ba2-4089-4698-bd28-96bea6aa543c\""
   ]
  },
  {
   "cell_type": "code",
   "execution_count": 11,
   "metadata": {},
   "outputs": [],
   "source": [
    "# store the Wastson SpeechToTextV1 API key\n",
    "iam_apikey_s2t = \"***\" # removing from public file"
   ]
  },
  {
   "cell_type": "code",
   "execution_count": 12,
   "metadata": {},
   "outputs": [
    {
     "data": {
      "text/plain": [
       "<ibm_watson.speech_to_text_v1_adapter.SpeechToTextV1Adapter at 0x211904609a0>"
      ]
     },
     "execution_count": 12,
     "metadata": {},
     "output_type": "execute_result"
    }
   ],
   "source": [
    "# create a SpeechToText adaptor object with the API key and endpoint URL as parameters\n",
    "# refer https://cloud.ibm.com/apidocs/speech-to-text?code=python#authentication\n",
    "authenticator = IAMAuthenticator(iam_apikey_s2t)\n",
    "s2t = SpeechToTextV1(authenticator=authenticator)\n",
    "s2t.set_service_url(url_s2t)\n",
    "s2t"
   ]
  },
  {
   "cell_type": "code",
   "execution_count": 13,
   "metadata": {},
   "outputs": [
    {
     "name": "stdout",
     "output_type": "stream",
     "text": [
      "Microphone with name \"Microsoft Sound Mapper - Input\" found for `Microphone(device_index=0)`\n",
      "Microphone with name \"Microphone Array (Intel® Smart \" found for `Microphone(device_index=1)`\n",
      "Microphone with name \"Microsoft Sound Mapper - Output\" found for `Microphone(device_index=2)`\n",
      "Microphone with name \"Speakers (Realtek(R) Audio)\" found for `Microphone(device_index=3)`\n",
      "Microphone with name \"Microphone Array 1 (Intel® Smart Sound Technology (Intel® SST) Microphone)\" found for `Microphone(device_index=4)`\n",
      "Microphone with name \"Microphone Array 2 (Intel® Smart Sound Technology (Intel® SST) Microphone)\" found for `Microphone(device_index=5)`\n",
      "Microphone with name \"Microphone Array 3 (Intel® Smart Sound Technology (Intel® SST) Microphone)\" found for `Microphone(device_index=6)`\n",
      "Microphone with name \"Headphones 1 (Realtek HD Audio 2nd output with SST)\" found for `Microphone(device_index=7)`\n",
      "Microphone with name \"Headphones 2 (Realtek HD Audio 2nd output with SST)\" found for `Microphone(device_index=8)`\n",
      "Microphone with name \"PC Speaker (Realtek HD Audio 2nd output with SST)\" found for `Microphone(device_index=9)`\n",
      "Microphone with name \"Stereo Mix (Realtek HD Audio Stereo input)\" found for `Microphone(device_index=10)`\n",
      "Microphone with name \"Speakers 1 (Realtek HD Audio output with SST)\" found for `Microphone(device_index=11)`\n",
      "Microphone with name \"Speakers 2 (Realtek HD Audio output with SST)\" found for `Microphone(device_index=12)`\n",
      "Microphone with name \"PC Speaker (Realtek HD Audio output with SST)\" found for `Microphone(device_index=13)`\n",
      "Microphone with name \"Microphone (Realtek HD Audio Mic input)\" found for `Microphone(device_index=14)`\n"
     ]
    }
   ],
   "source": [
    "# just checking\n",
    "for index, name in enumerate(sr.Microphone.list_microphone_names()):\n",
    "    print(\"Microphone with name \\\"{1}\\\" found for `Microphone(device_index={0})`\".format(index, name))"
   ]
  },
  {
   "cell_type": "code",
   "execution_count": 14,
   "metadata": {},
   "outputs": [],
   "source": [
    "mic = sr.Microphone()"
   ]
  },
  {
   "cell_type": "code",
   "execution_count": 15,
   "metadata": {},
   "outputs": [],
   "source": [
    "r = sr.Recognizer()"
   ]
  },
  {
   "cell_type": "code",
   "execution_count": 16,
   "metadata": {},
   "outputs": [
    {
     "name": "stdout",
     "output_type": "stream",
     "text": [
      "Say something...\n",
      "{\n",
      "  \"result_index\": 0,\n",
      "  \"results\": [\n",
      "    {\n",
      "      \"final\": true,\n",
      "      \"alternatives\": [\n",
      "        {\n",
      "          \"transcript\": \"hello hello hello \",\n",
      "          \"confidence\": 0.92\n",
      "        }\n",
      "      ]\n",
      "    }\n",
      "  ]\n",
      "}\n"
     ]
    }
   ],
   "source": [
    "with mic as source:\n",
    "    print(\"Say something...\")\n",
    "    # r.pause_threshold = 1\n",
    "    r.adjust_for_ambient_noise(source, duration = 5)\n",
    "    audio_file = r.listen(source)\n",
    "    response = s2t.recognize(audio = audio_file.get_wav_data(), content_type='audio/wav').get_result()\n",
    "    print(json.dumps(response, indent=2))"
   ]
  },
  {
   "cell_type": "code",
   "execution_count": null,
   "metadata": {},
   "outputs": [],
   "source": []
  }
 ],
 "metadata": {
  "kernelspec": {
   "display_name": "Python 3",
   "language": "python",
   "name": "python3"
  },
  "language_info": {
   "codemirror_mode": {
    "name": "ipython",
    "version": 3
   },
   "file_extension": ".py",
   "mimetype": "text/x-python",
   "name": "python",
   "nbconvert_exporter": "python",
   "pygments_lexer": "ipython3",
   "version": "3.8.3"
  }
 },
 "nbformat": 4,
 "nbformat_minor": 4
}
