{
 "cells": [
  {
   "cell_type": "code",
   "execution_count": null,
   "metadata": {},
   "outputs": [],
   "source": [
    "# see https://jakevdp.github.io/blog/2017/12/05/installing-python-packages-from-jupyter/\n",
    "# for more on installing packages for Jupyter Notebook"
   ]
  },
  {
   "cell_type": "code",
   "execution_count": 1,
   "metadata": {},
   "outputs": [
    {
     "name": "stdout",
     "output_type": "stream",
     "text": [
      "Requirement already satisfied: SpeechRecognition in c:\\anaconda3\\lib\\site-packages (3.8.1)\n"
     ]
    }
   ],
   "source": [
    "# pip install SpeechRecognition\n",
    "import sys\n",
    "!{sys.executable} -m pip install SpeechRecognition"
   ]
  },
  {
   "cell_type": "code",
   "execution_count": 2,
   "metadata": {},
   "outputs": [
    {
     "name": "stdout",
     "output_type": "stream",
     "text": [
      "Collecting package metadata (current_repodata.json): ...working... done\n",
      "Solving environment: ...working... done\n",
      "\n",
      "# All requested packages already installed.\n",
      "\n"
     ]
    }
   ],
   "source": [
    "!conda install --yes --prefix {sys.prefix} anaconda pyaudio"
   ]
  },
  {
   "cell_type": "code",
   "execution_count": 4,
   "metadata": {},
   "outputs": [],
   "source": [
    "import speech_recognition as sr"
   ]
  },
  {
   "cell_type": "code",
   "execution_count": 5,
   "metadata": {},
   "outputs": [
    {
     "data": {
      "text/plain": [
       "['C:\\\\anaconda3\\\\lib\\\\site-packages\\\\speech_recognition']"
      ]
     },
     "execution_count": 5,
     "metadata": {},
     "output_type": "execute_result"
    }
   ],
   "source": [
    "# just checking installation path; \n",
    "# see  https://jakevdp.github.io/blog/2017/12/05/installing-python-packages-from-jupyter/\n",
    "sr.__path__"
   ]
  },
  {
   "cell_type": "code",
   "execution_count": 6,
   "metadata": {},
   "outputs": [
    {
     "name": "stdout",
     "output_type": "stream",
     "text": [
      "Available kernels:\n",
      "  python3    C:\\anaconda3\\share\\jupyter\\kernels\\python3\n"
     ]
    }
   ],
   "source": [
    "# just checking  \n",
    "# see  https://jakevdp.github.io/blog/2017/12/05/installing-python-packages-from-jupyter/\n",
    "!jupyter kernelspec list"
   ]
  },
  {
   "cell_type": "code",
   "execution_count": 7,
   "metadata": {},
   "outputs": [
    {
     "name": "stderr",
     "output_type": "stream",
     "text": [
      "The system cannot find the file specified.\n"
     ]
    }
   ],
   "source": [
    "# just checking  \n",
    "# see  https://jakevdp.github.io/blog/2017/12/05/installing-python-packages-from-jupyter/\n",
    "!type python"
   ]
  },
  {
   "cell_type": "code",
   "execution_count": 8,
   "metadata": {},
   "outputs": [
    {
     "data": {
      "text/plain": [
       "'C:\\\\anaconda3\\\\python.exe'"
      ]
     },
     "execution_count": 8,
     "metadata": {},
     "output_type": "execute_result"
    }
   ],
   "source": [
    "# just checking  \n",
    "# see  https://jakevdp.github.io/blog/2017/12/05/installing-python-packages-from-jupyter/\n",
    "sys.executable"
   ]
  },
  {
   "cell_type": "code",
   "execution_count": 4,
   "metadata": {},
   "outputs": [
    {
     "name": "stdout",
     "output_type": "stream",
     "text": [
      "Microphone with name \"Microsoft Sound Mapper - Input\" found for `Microphone(device_index=0)`\n",
      "Microphone with name \"Microphone Array (Intel® Smart \" found for `Microphone(device_index=1)`\n",
      "Microphone with name \"Microsoft Sound Mapper - Output\" found for `Microphone(device_index=2)`\n",
      "Microphone with name \"Speakers (Realtek(R) Audio)\" found for `Microphone(device_index=3)`\n",
      "Microphone with name \"Microphone Array 1 (Intel® Smart Sound Technology (Intel® SST) Microphone)\" found for `Microphone(device_index=4)`\n",
      "Microphone with name \"Microphone Array 2 (Intel® Smart Sound Technology (Intel® SST) Microphone)\" found for `Microphone(device_index=5)`\n",
      "Microphone with name \"Microphone Array 3 (Intel® Smart Sound Technology (Intel® SST) Microphone)\" found for `Microphone(device_index=6)`\n",
      "Microphone with name \"Headphones 1 (Realtek HD Audio 2nd output with SST)\" found for `Microphone(device_index=7)`\n",
      "Microphone with name \"Headphones 2 (Realtek HD Audio 2nd output with SST)\" found for `Microphone(device_index=8)`\n",
      "Microphone with name \"PC Speaker (Realtek HD Audio 2nd output with SST)\" found for `Microphone(device_index=9)`\n",
      "Microphone with name \"Stereo Mix (Realtek HD Audio Stereo input)\" found for `Microphone(device_index=10)`\n",
      "Microphone with name \"Speakers 1 (Realtek HD Audio output with SST)\" found for `Microphone(device_index=11)`\n",
      "Microphone with name \"Speakers 2 (Realtek HD Audio output with SST)\" found for `Microphone(device_index=12)`\n",
      "Microphone with name \"PC Speaker (Realtek HD Audio output with SST)\" found for `Microphone(device_index=13)`\n",
      "Microphone with name \"Microphone (Realtek HD Audio Mic input)\" found for `Microphone(device_index=14)`\n"
     ]
    }
   ],
   "source": [
    "# just checking\n",
    "for index, name in enumerate(sr.Microphone.list_microphone_names()):\n",
    "    print(\"Microphone with name \\\"{1}\\\" found for `Microphone(device_index={0})`\".format(index, name))"
   ]
  },
  {
   "cell_type": "code",
   "execution_count": null,
   "metadata": {},
   "outputs": [],
   "source": [
    "mic = sr.Microphone()"
   ]
  },
  {
   "cell_type": "code",
   "execution_count": null,
   "metadata": {},
   "outputs": [],
   "source": [
    "r = sr.Recognizer()"
   ]
  },
  {
   "cell_type": "code",
   "execution_count": 8,
   "metadata": {},
   "outputs": [
    {
     "name": "stdout",
     "output_type": "stream",
     "text": [
      "Say something...\n",
      "56\n"
     ]
    }
   ],
   "source": [
    "with mic as source:\n",
    "    print(\"Say something...\")\n",
    "    # r.pause_threshold = 1\n",
    "    r.adjust_for_ambient_noise(source, duration = 5)\n",
    "    audio = r.listen(source)\n",
    "    my_string = r.recognize_google(audio)\n",
    "print(r.recognize_google(audio))"
   ]
  },
  {
   "cell_type": "code",
   "execution_count": 9,
   "metadata": {},
   "outputs": [
    {
     "name": "stdout",
     "output_type": "stream",
     "text": [
      "# packages in environment at C:\\anaconda3:\n",
      "#\n",
      "# Name                    Version                   Build  Channel\n",
      "_ipyw_jlab_nb_ext_conf    0.1.0                    py38_0  \n",
      "alabaster                 0.7.12                     py_0  \n",
      "anaconda                  2020.07                  py38_0  \n",
      "anaconda-client           1.7.2                    py38_0  \n",
      "anaconda-navigator        1.9.12                   py38_0  \n",
      "anaconda-project          0.8.4                      py_0  \n",
      "argh                      0.26.2                   py38_0  \n",
      "asn1crypto                1.3.0                    py38_0  \n",
      "astroid                   2.4.2                    py38_0  \n",
      "astropy                   4.0.1.post1      py38he774522_1  \n",
      "atomicwrites              1.4.0                      py_0  \n",
      "attrs                     19.3.0                     py_0  \n",
      "autopep8                  1.5.3                      py_0  \n",
      "babel                     2.8.0                      py_0  \n",
      "backcall                  0.2.0                      py_0  \n",
      "backports                 1.0                        py_2  \n",
      "backports.functools_lru_cache 1.6.1                      py_0  \n",
      "\n",
      "Note: you may need to restart the kernel to use updated packages.backports.shutil_get_terminal_size 1.0.0                    py38_2  \n",
      "\n",
      "backports.tempfile        1.0                        py_1  \n",
      "backports.weakref         1.0.post1                  py_1  \n",
      "bcrypt                    3.1.7            py38he774522_1  \n",
      "beautifulsoup4            4.9.1                    py38_0  \n",
      "bitarray                  1.4.0            py38he774522_0  \n",
      "bkcharts                  0.2                      py38_0  \n",
      "blas                      1.0                         mkl  \n",
      "bleach                    3.1.5                      py_0  \n",
      "blosc                     1.19.0               h7bd577a_0  \n",
      "bokeh                     2.1.1                    py38_0  \n",
      "boto                      2.49.0                   py38_0  \n",
      "bottleneck                1.3.2            py38h2a96729_1  \n",
      "brotlipy                  0.7.0           py38he774522_1000  \n",
      "bzip2                     1.0.8                he774522_0  \n",
      "ca-certificates           2020.6.24                     0  \n",
      "certifi                   2020.6.20                py38_0  \n",
      "cffi                      1.14.0           py38h7a1dbc1_0  \n",
      "chardet                   3.0.4                 py38_1003  \n",
      "click                     7.1.2                      py_0  \n",
      "cloudpickle               1.5.0                      py_0  \n",
      "clyent                    1.2.2                    py38_1  \n",
      "colorama                  0.4.3                      py_0  \n",
      "comtypes                  1.1.7                 py38_1001  \n",
      "conda                     4.8.3                    py38_0  \n",
      "conda-build               3.18.11                  py38_1  \n",
      "conda-env                 2.6.0                         1  \n",
      "conda-package-handling    1.6.1            py38h62dcd97_0  \n",
      "conda-verify              3.4.2                      py_1  \n",
      "console_shortcut          0.1.1                         4  \n",
      "contextlib2               0.6.0.post1                py_0  \n",
      "cryptography              2.9.2            py38h7a1dbc1_0  \n",
      "curl                      7.71.1               h2a8f88b_1  \n",
      "cycler                    0.10.0                   py38_0  \n",
      "cython                    0.29.21          py38ha925a31_0  \n",
      "cytoolz                   0.10.1           py38he774522_0  \n",
      "dask                      2.20.0                     py_0  \n",
      "dask-core                 2.20.0                     py_0  \n",
      "decorator                 4.4.2                      py_0  \n",
      "defusedxml                0.6.0                      py_0  \n",
      "diff-match-patch          20200713                   py_0  \n",
      "distributed               2.20.0                   py38_0  \n",
      "docutils                  0.16                     py38_1  \n",
      "entrypoints               0.3                      py38_0  \n",
      "et_xmlfile                1.0.1                   py_1001  \n",
      "fastcache                 1.1.0            py38he774522_0  \n",
      "filelock                  3.0.12                     py_0  \n",
      "flake8                    3.8.3                      py_0  \n",
      "flask                     1.1.2                      py_0  \n",
      "freetype                  2.10.2               hd328e21_0  \n",
      "fsspec                    0.7.4                      py_0  \n",
      "future                    0.18.2                   py38_1  \n",
      "get_terminal_size         1.0.0                h38e98db_0  \n",
      "gevent                    20.6.2           py38he774522_0  \n",
      "glob2                     0.7                        py_0  \n",
      "gmpy2                     2.0.8            py38h7edee0f_3  \n",
      "greenlet                  0.4.16           py38he774522_0  \n",
      "h5py                      2.10.0           py38h5e291fa_0  \n",
      "hdf5                      1.10.4               h7ebc959_0  \n",
      "heapdict                  1.0.1                      py_0  \n",
      "html5lib                  1.1                        py_0  \n",
      "ibm-cloud-sdk-core        1.5.1                    pypi_0    pypi\n",
      "ibm-watson                4.5.0                    pypi_0    pypi\n",
      "icc_rt                    2019.0.0             h0cc432a_1  \n",
      "icu                       58.2                 ha925a31_3  \n",
      "idna                      2.10                       py_0  \n",
      "imageio                   2.9.0                      py_0  \n",
      "imagesize                 1.2.0                      py_0  \n",
      "importlib-metadata        1.7.0                    py38_0  \n",
      "importlib_metadata        1.7.0                         0  \n",
      "intel-openmp              2020.1                      216  \n",
      "intervaltree              3.0.2                      py_1  \n",
      "ipykernel                 5.3.2            py38h5ca1d4c_0  \n",
      "ipython                   7.16.1           py38h5ca1d4c_0  \n",
      "ipython_genutils          0.2.0                    py38_0  \n",
      "ipywidgets                7.5.1                      py_0  \n",
      "isort                     4.3.21                   py38_0  \n",
      "itsdangerous              1.1.0                      py_0  \n",
      "jdcal                     1.4.1                      py_0  \n",
      "jedi                      0.17.1                   py38_0  \n",
      "jinja2                    2.11.2                     py_0  \n",
      "joblib                    0.16.0                     py_0  \n",
      "jpeg                      9b                   hb83a4c4_2  \n",
      "json5                     0.9.5                      py_0  \n",
      "jsonschema                3.2.0                    py38_0  \n",
      "jupyter                   1.0.0                    py38_7  \n",
      "jupyter_client            6.1.6                      py_0  \n",
      "jupyter_console           6.1.0                      py_0  \n",
      "jupyter_core              4.6.3                    py38_0  \n",
      "jupyterlab                2.1.5                      py_0  \n",
      "jupyterlab_server         1.2.0                      py_0  \n",
      "keyring                   21.2.1                   py38_0  \n",
      "kiwisolver                1.2.0            py38h74a9793_0  \n",
      "krb5                      1.18.2               hc04afaa_0  \n",
      "lazy-object-proxy         1.4.3            py38he774522_0  \n",
      "libarchive                3.4.2                h5e25573_0  \n",
      "libcurl                   7.71.1               h2a8f88b_1  \n",
      "libiconv                  1.15                 h1df5818_7  \n",
      "liblief                   0.10.1               ha925a31_0  \n",
      "libllvm9                  9.0.1                h21ff451_0  \n",
      "libpng                    1.6.37               h2a8f88b_0  \n",
      "libsodium                 1.0.18               h62dcd97_0  \n",
      "libspatialindex           1.9.3                h33f27b4_0  \n",
      "libssh2                   1.9.0                h7a1dbc1_1  \n",
      "libtiff                   4.1.0                h56a325e_1  \n",
      "libxml2                   2.9.10               h464c3ec_1  \n",
      "libxslt                   1.1.34               he774522_0  \n",
      "llvmlite                  0.33.0           py38ha925a31_0  \n",
      "locket                    0.2.0                    py38_1  \n",
      "lxml                      4.5.2            py38h1350720_0  \n",
      "lz4-c                     1.9.2                h62dcd97_0  \n",
      "lzo                       2.10                 he774522_2  \n",
      "m2w64-gcc-libgfortran     5.3.0                         6  \n",
      "m2w64-gcc-libs            5.3.0                         7  \n",
      "m2w64-gcc-libs-core       5.3.0                         7  \n",
      "m2w64-gmp                 6.1.0                         2  \n",
      "m2w64-libwinpthread-git   5.0.0.4634.697f757               2  \n",
      "markupsafe                1.1.1            py38he774522_0  \n",
      "matplotlib                3.2.2                         0  \n",
      "matplotlib-base           3.2.2            py38h64f37c6_0  \n",
      "mccabe                    0.6.1                    py38_1  \n",
      "menuinst                  1.4.16           py38he774522_1  \n",
      "mistune                   0.8.4           py38he774522_1000  \n",
      "mkl                       2020.1                      216  \n",
      "mkl-service               2.3.0            py38hb782905_0  \n",
      "mkl_fft                   1.1.0            py38h45dec08_0  \n",
      "mkl_random                1.1.1            py38h47e9c7a_0  \n",
      "mock                      4.0.2                      py_0  \n",
      "more-itertools            8.4.0                      py_0  \n",
      "mpc                       1.1.0                h7edee0f_1  \n",
      "mpfr                      4.0.2                h62dcd97_1  \n",
      "mpir                      3.0.0                hec2e145_1  \n",
      "mpmath                    1.1.0                    py38_0  \n",
      "msgpack-python            1.0.0            py38h74a9793_1  \n",
      "msys2-conda-epoch         20160418                      1  \n",
      "multipledispatch          0.6.0                    py38_0  \n",
      "navigator-updater         0.2.1                    py38_0  \n",
      "nbconvert                 5.6.1                    py38_0  \n",
      "nbformat                  5.0.7                      py_0  \n",
      "networkx                  2.4                        py_1  \n",
      "nltk                      3.5                        py_0  \n",
      "nose                      1.3.7                    py38_2  \n",
      "notebook                  6.0.3                    py38_0  \n",
      "numba                     0.50.1           py38h47e9c7a_0  \n",
      "numexpr                   2.7.1            py38h25d0782_0  \n",
      "numpy                     1.18.5           py38h6530119_0  \n",
      "numpy-base                1.18.5           py38hc3f5095_0  \n",
      "numpydoc                  1.1.0                      py_0  \n",
      "olefile                   0.46                       py_0  \n",
      "openpyxl                  3.0.4                      py_0  \n",
      "openssl                   1.1.1g               he774522_0  \n",
      "packaging                 20.4                       py_0  \n",
      "pandas                    1.0.5            py38h47e9c7a_0  \n",
      "pandoc                    2.10                          0  \n",
      "pandocfilters             1.4.2                    py38_1  \n",
      "paramiko                  2.7.1                      py_0  \n",
      "parso                     0.7.0                      py_0  \n",
      "partd                     1.1.0                      py_0  \n",
      "path                      13.1.0                   py38_0  \n",
      "path.py                   12.4.0                        0  \n",
      "pathlib2                  2.3.5                    py38_0  \n",
      "pathtools                 0.1.2                      py_1  \n",
      "patsy                     0.5.1                    py38_0  \n",
      "pep8                      1.7.1                    py38_0  \n",
      "pexpect                   4.8.0                    py38_0  \n",
      "pickleshare               0.7.5                 py38_1000  \n",
      "pillow                    7.2.0            py38hcc1f983_0  \n",
      "pip                       20.1.1                   py38_1  \n",
      "pkginfo                   1.5.0.1                  py38_0  \n",
      "pluggy                    0.13.1                   py38_0  \n",
      "ply                       3.11                     py38_0  \n",
      "portaudio                 19.6.0               he774522_4    anaconda\n",
      "powershell_shortcut       0.0.1                         3  \n",
      "prometheus_client         0.8.0                      py_0  \n",
      "prompt-toolkit            3.0.5                      py_0  \n",
      "prompt_toolkit            3.0.5                         0  \n",
      "psutil                    5.7.0            py38he774522_0  \n",
      "py                        1.9.0                      py_0  \n",
      "py-lief                   0.10.1           py38ha925a31_0  \n",
      "pyaudio                   0.2.11           py38he774522_2  \n",
      "pycodestyle               2.6.0                      py_0  \n",
      "pycosat                   0.6.3            py38he774522_0  \n",
      "pycparser                 2.20                       py_2  \n",
      "pycurl                    7.43.0.5         py38h7a1dbc1_0  \n",
      "pydocstyle                5.0.2                      py_0  \n",
      "pyflakes                  2.2.0                      py_0  \n",
      "pygments                  2.6.1                      py_0  \n",
      "pyjwt                     1.7.1                    pypi_0    pypi\n",
      "pylint                    2.5.3                    py38_0  \n",
      "pynacl                    1.4.0            py38h62dcd97_1  \n",
      "pyodbc                    4.0.30           py38ha925a31_0  \n",
      "pyopenssl                 19.1.0                     py_1  \n",
      "pyparsing                 2.4.7                      py_0  \n",
      "pyqt                      5.9.2            py38ha925a31_4  \n",
      "pyreadline                2.1                      py38_1  \n",
      "pyrsistent                0.16.0           py38he774522_0  \n",
      "pysocks                   1.7.1                    py38_0  \n",
      "pytables                  3.6.1            py38ha5be198_0  \n",
      "pytest                    5.4.3                    py38_0  \n",
      "python                    3.8.3                he1778fa_2  \n",
      "python-dateutil           2.8.1                      py_0  \n",
      "python-jsonrpc-server     0.3.4                      py_1  \n",
      "python-language-server    0.34.1                   py38_0  \n",
      "python-libarchive-c       2.9                        py_0  \n",
      "pytz                      2020.1                     py_0  \n",
      "pywavelets                1.1.1            py38he774522_0  \n",
      "pywin32                   227              py38he774522_1  \n",
      "pywin32-ctypes            0.2.0                 py38_1000  \n",
      "pywinpty                  0.5.7                    py38_0  \n",
      "pyyaml                    5.3.1            py38he774522_1  \n",
      "pyzmq                     19.0.1           py38ha925a31_1  \n",
      "qdarkstyle                2.8.1                      py_0  \n",
      "qt                        5.9.7            vc14h73c81de_0  \n",
      "qtawesome                 0.7.2                      py_0  \n",
      "qtconsole                 4.7.5                      py_0  \n",
      "qtpy                      1.9.0                      py_0  \n",
      "regex                     2020.6.8         py38he774522_0  \n",
      "requests                  2.24.0                     py_0  \n",
      "rope                      0.17.0                     py_0  \n",
      "rtree                     0.9.4            py38h21ff451_1  \n",
      "ruamel_yaml               0.15.87          py38he774522_1  \n",
      "scikit-image              0.16.2           py38h47e9c7a_0  \n",
      "scikit-learn              0.23.1           py38h25d0782_0  \n",
      "scipy                     1.5.0            py38h9439919_0  \n",
      "seaborn                   0.10.1                     py_0  \n",
      "send2trash                1.5.0                    py38_0  \n",
      "setuptools                49.2.0                   py38_0  \n",
      "simplegeneric             0.8.1                    py38_2  \n",
      "singledispatch            3.4.0.3                  py38_0  \n",
      "sip                       4.19.13          py38ha925a31_0  \n",
      "six                       1.15.0                     py_0  \n",
      "snappy                    1.1.8                h33f27b4_0  \n",
      "snowballstemmer           2.0.0                      py_0  \n",
      "sortedcollections         1.2.1                      py_0  \n",
      "sortedcontainers          2.2.2                      py_0  \n",
      "soupsieve                 2.0.1                      py_0  \n",
      "speechrecognition         3.8.1                    pypi_0    pypi\n",
      "sphinx                    3.1.2                      py_0  \n",
      "sphinxcontrib             1.0                      py38_1  \n",
      "sphinxcontrib-applehelp   1.0.2                      py_0  \n",
      "sphinxcontrib-devhelp     1.0.2                      py_0  \n",
      "sphinxcontrib-htmlhelp    1.0.3                      py_0  \n",
      "sphinxcontrib-jsmath      1.0.1                      py_0  \n",
      "sphinxcontrib-qthelp      1.0.3                      py_0  \n",
      "sphinxcontrib-serializinghtml 1.1.4                      py_0  \n",
      "sphinxcontrib-websupport  1.2.3                      py_0  \n",
      "spyder                    4.1.4                    py38_0  \n",
      "spyder-kernels            1.9.2                    py38_0  \n",
      "sqlalchemy                1.3.18           py38he774522_0  \n",
      "sqlite                    3.32.3               h2a8f88b_0  \n",
      "statsmodels               0.11.1           py38he774522_0  \n",
      "sympy                     1.6.1                    py38_0  \n",
      "tbb                       2020.0               h74a9793_0  \n",
      "tblib                     1.6.0                      py_0  \n",
      "terminado                 0.8.3                    py38_0  \n",
      "testpath                  0.4.4                      py_0  \n",
      "threadpoolctl             2.1.0              pyh5ca1d4c_0  \n",
      "tk                        8.6.10               he774522_0  \n",
      "toml                      0.10.1                     py_0  \n",
      "toolz                     0.10.0                     py_0  \n",
      "tornado                   6.0.4            py38he774522_1  \n",
      "tqdm                      4.47.0                     py_0  \n",
      "traitlets                 4.3.3                    py38_0  \n",
      "typing_extensions         3.7.4.2                    py_0  \n",
      "ujson                     1.35             py38he774522_0  \n",
      "unicodecsv                0.14.1                   py38_0  \n",
      "urllib3                   1.25.9                     py_0  \n",
      "vc                        14.1                 h0510ff6_4  \n",
      "vs2015_runtime            14.16.27012          hf0eaf9b_3  \n",
      "watchdog                  0.10.3                   py38_0  \n",
      "wcwidth                   0.2.5                      py_0  \n",
      "webencodings              0.5.1                    py38_1  \n",
      "websocket-client          0.48.0                   pypi_0    pypi\n",
      "werkzeug                  1.0.1                      py_0  \n",
      "wget                      3.2                      pypi_0    pypi\n",
      "wheel                     0.34.2                   py38_0  \n",
      "widgetsnbextension        3.5.1                    py38_0  \n",
      "win_inet_pton             1.1.0                    py38_0  \n",
      "win_unicode_console       0.5                      py38_0  \n",
      "wincertstore              0.2                      py38_0  \n",
      "winpty                    0.4.3                         4  \n",
      "wrapt                     1.11.2           py38he774522_0  \n",
      "xlrd                      1.2.0                      py_0  \n",
      "xlsxwriter                1.2.9                      py_0  \n",
      "xlwings                   0.19.5                   py38_0  \n",
      "xlwt                      1.3.0                    py38_0  \n",
      "xmltodict                 0.12.0                     py_0  \n",
      "xz                        5.2.5                h62dcd97_0  \n",
      "yaml                      0.2.5                he774522_0  \n",
      "yapf                      0.30.0                     py_0  \n",
      "zeromq                    4.3.2                ha925a31_2  \n",
      "zict                      2.0.0                      py_0  \n",
      "zipp                      3.1.0                      py_0  \n",
      "zlib                      1.2.11               h62dcd97_4  \n",
      "zope                      1.0                      py38_1  \n",
      "zope.event                4.4                      py38_0  \n",
      "zope.interface            4.7.1            py38he774522_0  \n",
      "zstd                      1.4.5                ha9fde0e_0  \n"
     ]
    }
   ],
   "source": [
    "# just checking\n",
    "# list of packages in current anaconda environment\n",
    "# remove this code\n",
    "conda list"
   ]
  },
  {
   "cell_type": "code",
   "execution_count": null,
   "metadata": {},
   "outputs": [],
   "source": []
  }
 ],
 "metadata": {
  "kernelspec": {
   "display_name": "Python 3",
   "language": "python",
   "name": "python3"
  },
  "language_info": {
   "codemirror_mode": {
    "name": "ipython",
    "version": 3
   },
   "file_extension": ".py",
   "mimetype": "text/x-python",
   "name": "python",
   "nbconvert_exporter": "python",
   "pygments_lexer": "ipython3",
   "version": "3.8.3"
  }
 },
 "nbformat": 4,
 "nbformat_minor": 4
}
